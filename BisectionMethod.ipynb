{
  "nbformat": 4,
  "nbformat_minor": 0,
  "metadata": {
    "colab": {
      "name": "BisectionMethod.ipynb",
      "provenance": [],
      "collapsed_sections": [],
      "authorship_tag": "ABX9TyMDWnfmZLxuCyI0aOzCB2xt",
      "include_colab_link": true
    },
    "kernelspec": {
      "name": "python3",
      "display_name": "Python 3"
    },
    "language_info": {
      "name": "python"
    }
  },
  "cells": [
    {
      "cell_type": "markdown",
      "metadata": {
        "id": "view-in-github",
        "colab_type": "text"
      },
      "source": [
        "<a href=\"https://colab.research.google.com/github/dafex301/Strukdat1/blob/master/BisectionMethod.ipynb\" target=\"_parent\"><img src=\"https://colab.research.google.com/assets/colab-badge.svg\" alt=\"Open In Colab\"/></a>"
      ]
    },
    {
      "cell_type": "code",
      "metadata": {
        "id": "FWaBc0B-FbOh"
      },
      "source": [
        "# Program\n",
        "import numpy as np\n",
        "import warnings\n",
        "import sympy\n",
        "import math\n",
        "\n",
        "def bisection(f, a, b, tol):\n",
        "  MAX_STEPS = 1000\n",
        "\n",
        "  # initialize\n",
        "  delta_x = b-a\n",
        "  c = a + delta_x / 2.0\n",
        "  c_array = [ c ]\n",
        "\n",
        "  f_a = f(a)\n",
        "  f_b = f(b)\n",
        "  f_c = f(c)\n",
        "\n",
        "  # Periksa kurung\n",
        "  if np.sign(f_a) == np.sign(f_b):\n",
        "    raise ValueError(\"tidak mengurung: f(a) dan f(b) harus memiliki tanda yang berbeda\")\n",
        "\n",
        "  # Loop sampai mencapai toleransi atau MAX_STEPS\n",
        "  for step in range(1, MAX_STEPS + 1):\n",
        "    # Periksa toleransi / bisa juga memeriksa ukuran delta_x\n",
        "    # Kita memeriksa ini terlebih dahulu karena kita telah menginisialisasi nilai dalam c dan f_c\n",
        "    if np.abs(f_c) < tol:\n",
        "      break\n",
        "    if np.sign(f_a) != np.sign(f_c):\n",
        "      b = c\n",
        "      f_b = f_c\n",
        "    else:\n",
        "      a = c\n",
        "      f_a = f_c\n",
        "    delta_x = b - a\n",
        "    c = a + delta_x / 2.0\n",
        "    f_c = f(c)\n",
        "    c_array.append(c)\n",
        "  if step == MAX_STEPS:\n",
        "    warnings.warn('Jumlah maksimum langkah yang terlampaui')\n",
        "\n",
        "  return c, np.array(c_array)\n",
        "\n",
        "\n"
      ],
      "execution_count": 7,
      "outputs": []
    },
    {
      "cell_type": "code",
      "metadata": {
        "colab": {
          "base_uri": "https://localhost:8080/"
        },
        "id": "2q8IHiy6NaJg",
        "outputId": "4d59b723-da60-48bc-d1dc-ce490940d7a8"
      },
      "source": [
        "# mengatur fungsi sebagai lambda inline\n",
        "f = lambda x: math.exp(x) + x**2 - 3*x - 2\n",
        "# interval awal\n",
        "a = -1.0\n",
        "b = 1.0\n",
        "tol = 0.0001\n",
        "# Mencari akar\n",
        "x_star, x_array = bisection(f, a, b, tol)\n",
        "print('akar pada x = {}, f(x*) = {}, {} steps'.format(x_star, f(x_star), len(x_array)))"
      ],
      "execution_count": 8,
      "outputs": [
        {
          "output_type": "stream",
          "name": "stdout",
          "text": [
            "akar pada x = -0.3902587890625, f(x*) = -4.002811772085835e-05, 14 steps\n"
          ]
        }
      ]
    }
  ]
}